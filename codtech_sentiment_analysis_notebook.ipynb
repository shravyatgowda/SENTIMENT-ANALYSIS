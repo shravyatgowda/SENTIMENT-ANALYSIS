{
 "cells": [
  {
   "cell_type": "markdown",
   "id": "830300ec",
   "metadata": {},
   "source": [
    "# Codtech - Data Analyst Internship \n",
    "\n",
    "**Task 4 : Sentiment Analysis** \n",
    "\n",
    "**Deliverable:** notebook demonstrating sentiment analysis (preprocessing, model, evaluation)\n",
    "\n",
    "**Dataset:** synthetic 10,000 rows (CSV included)\n",
    "\n",
    "**Generated on:** 2025-08-10 08:54 UTC\n",
    "\n",
    "This notebook walks through loading the dataset, basic EDA, preprocessing, TF-IDF + Logistic Regression, evaluation, and brief insights."
   ]
  },
  {
   "cell_type": "code",
   "execution_count": null,
   "id": "5be18d99",
   "metadata": {},
   "outputs": [],
   "source": [
    "\n",
    "# Imports and load dataset\n",
    "import pandas as pd\n",
    "import re\n",
    "from sklearn.model_selection import train_test_split\n",
    "from sklearn.feature_extraction.text import TfidfVectorizer\n",
    "from sklearn.linear_model import LogisticRegression\n",
    "from sklearn.metrics import classification_report, confusion_matrix, accuracy_score\n",
    "from sklearn.pipeline import make_pipeline\n",
    "\n",
    "df = pd.read_csv('/mnt/data/sentiment_dataset_10000.csv')\n",
    "df.head()\n"
   ]
  },
  {
   "cell_type": "markdown",
   "id": "01c0bfcf",
   "metadata": {},
   "source": [
    "## Quick EDA"
   ]
  },
  {
   "cell_type": "code",
   "execution_count": null,
   "id": "67d65521",
   "metadata": {},
   "outputs": [],
   "source": [
    "\n",
    "print('Shape:', df.shape)\n",
    "print('\\nLabel distribution:')\n",
    "print(df['sentiment'].value_counts(normalize=True))\n",
    "df['text_length'] = df['text'].str.len()\n",
    "print('\\nText length summary:')\n",
    "print(df['text_length'].describe())\n"
   ]
  },
  {
   "cell_type": "markdown",
   "id": "f562cf63",
   "metadata": {},
   "source": [
    "## Simple preprocessing function"
   ]
  },
  {
   "cell_type": "code",
   "execution_count": null,
   "id": "07a4811d",
   "metadata": {},
   "outputs": [],
   "source": [
    "\n",
    "def preprocess(text):\n",
    "    # lowercase\n",
    "    text = text.lower()\n",
    "    # remove URLs and mentions\n",
    "    text = re.sub(r'http\\S+|www\\S+|@\\w+', '', text)\n",
    "    # remove punctuation (keep basic emoticons as they are)\n",
    "    text = re.sub(r'[^a-z0-9\\s\\u263a-\\u263b\\u2600-\\u26FF]', ' ', text)\n",
    "    # collapse whitespace\n",
    "    text = re.sub(r'\\s+', ' ', text).strip()\n",
    "    return text\n",
    "\n",
    "df['clean_text'] = df['text'].astype(str).apply(preprocess)\n",
    "df.head()\n"
   ]
  },
  {
   "cell_type": "markdown",
   "id": "a908ff98",
   "metadata": {},
   "source": [
    "## Train/Test split and Model pipeline (TF-IDF + Logistic Regression)"
   ]
  },
  {
   "cell_type": "code",
   "execution_count": null,
   "id": "b5cb58ec",
   "metadata": {},
   "outputs": [],
   "source": [
    "\n",
    "X = df['clean_text']\n",
    "y = df['sentiment']\n",
    "\n",
    "X_train, X_test, y_train, y_test = train_test_split(X, y, test_size=0.2, random_state=42, stratify=y)\n",
    "\n",
    "pipeline = make_pipeline(\n",
    "    TfidfVectorizer(ngram_range=(1,2), max_features=10000),\n",
    "    LogisticRegression(max_iter=1000)\n",
    ")\n",
    "\n",
    "pipeline.fit(X_train, y_train)\n",
    "y_pred = pipeline.predict(X_test)\n",
    "\n",
    "print('Accuracy:', accuracy_score(y_test, y_pred))\n",
    "print('\\nClassification report:')\n",
    "print(classification_report(y_test, y_pred))\n"
   ]
  },
  {
   "cell_type": "markdown",
   "id": "c6d32ea5",
   "metadata": {},
   "source": [
    "## Confusion Matrix"
   ]
  },
  {
   "cell_type": "code",
   "execution_count": null,
   "id": "edc42180",
   "metadata": {},
   "outputs": [],
   "source": [
    "\n",
    "import pandas as pd\n",
    "from sklearn.metrics import confusion_matrix\n",
    "cm = confusion_matrix(y_test, y_pred, labels=['positive','negative','neutral'])\n",
    "cm_df = pd.DataFrame(cm, index=['positive','negative','neutral'], columns=['positive_pred','negative_pred','neutral_pred'])\n",
    "cm_df\n"
   ]
  },
  {
   "cell_type": "markdown",
   "id": "c23cd451",
   "metadata": {},
   "source": [
    "## Brief insights\n",
    "\n",
    "- This notebook uses a synthetic dataset for learning purposes.\n",
    "- TF-IDF + Logistic Regression is a fast baseline for sentiment classification.\n",
    "- For better real-world performance: larger real datasets, embeddings or transformers, improved preprocessing, and hyperparameter tuning.\n",
    "\n"
   ]
  },
  {
   "cell_type": "code",
   "execution_count": null,
   "id": "b70faa4e-7123-4a82-a93a-2472acb79824",
   "metadata": {},
   "outputs": [],
   "source": []
  }
 ],
 "metadata": {
  "kernelspec": {
   "display_name": "Python 3 (ipykernel)",
   "language": "python",
   "name": "python3"
  },
  "language_info": {
   "codemirror_mode": {
    "name": "ipython",
    "version": 3
   },
   "file_extension": ".py",
   "mimetype": "text/x-python",
   "name": "python",
   "nbconvert_exporter": "python",
   "pygments_lexer": "ipython3",
   "version": "3.12.3"
  }
 },
 "nbformat": 4,
 "nbformat_minor": 5
}
